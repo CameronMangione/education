














# Import pands, numpy, and matplotlib
import pandas as pd
import numpy as np
import matplotlib.pyplot as plt

# seaborn is a data visualization library built on matplotlib
import seaborn as sns

#set the plotting style
sns.set_style("whitegrid")












