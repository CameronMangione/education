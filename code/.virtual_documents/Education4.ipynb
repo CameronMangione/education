














import pandas as pd
import numpy as np
import matplotlib.pyplot as plt

import seaborn as sns
#set the plotting style
sns.set_style("whitegrid")

import wget as wget

# Model preprocessing
from sklearn.preprocessing import StandardScaler

#Modelling
import statsmodels.formula.api as smf
import statsmodels.api as sm

# Model metrics and analysis
from sklearn.metrics import r2_score, mean_squared_error, mean_absolute_error
from statsmodels.stats.anova import anova_lm











edgap = pd.read_excel('https://raw.githubusercontent.com/CameronMangione/education/main/data/EdGap_data.xlsx',
dtype = {'NCESSCH School ID': object})


!wget -O ccd_sch_029_1617_w_1a_11212017.csv "https://www.dropbox.com/s/lkl5nvcdmwyoban/ccd_sch_029_1617_w_1a_11212017.csv?dl=0"


!ls


school_information = pd.read_csv("ccd_sch_029_1617_w_1a_11212017.csv", encoding="unicode_escape")


school_title = pd.read_csv("https://raw.githubusercontent.com/CameronMangione/education/refs/heads/main/data/ELSI_csv_export_6389669727200373564935.csv", encoding="unicode_escape")








school_information.head()


edgap.head()


school_title.head()





edgap.info()


school_title.info()


school_information.info()














sns.pairplot(
    edgap.drop(columns="NCESSCH School ID"));

plt.show()


fig = sns.pairplot(
    edgap.drop(columns="NCESSCH School ID"),
    kind="reg",
    plot_kws={
        "line_kws": {"color": "blue"},
        "scatter_kws": {"alpha": 0.5, "color": "k", "s": 7},
    },
)

for ax in fig.axes.flat:
    if ax.get_xlabel() == 'CT Median Household Income':
        ax.ticklabel_format(style='sci', axis='x', scilimits=(0,0))  # Apply scientific notation
    ax.set_xlabel(ax.get_xlabel(), fontsize=8, rotation=30, ha='right')  # X-axis label size and rotation
    ax.set_ylabel(ax.get_ylabel(), fontsize=8)  # Y-axis label size

    # Rotate x-axis tick labels
    plt.setp(ax.get_xticklabels(), rotation=30, ha='right')


plt.show()


fig = sns.pairplot(
    edgap.drop(columns="NCESSCH School ID"),
    y_vars=['School ACT average (or equivalent if SAT score)'],
    kind="reg",
    plot_kws={
        "line_kws": {"color": "blue"},
        "scatter_kws": {"alpha": 0.5, "color": "k", "s": 7},
    },
)

for ax in fig.axes.flat:
    if ax.get_xlabel() == 'CT Median Household Income':
        ax.ticklabel_format(style='sci', axis='x', scilimits=(0,0))  # Apply scientific notation
    ax.set_xlabel(ax.get_xlabel(), fontsize=8, rotation=30, ha='right')  # X-axis label size and rotation
    ax.set_ylabel(ax.get_ylabel(), fontsize=8)  # Y-axis label size

    # Rotate x-axis tick labels
    plt.setp(ax.get_xticklabels(), rotation=30, ha='right')

plt.show()














school_information = school_information[['SCHOOL_YEAR', 'NCESSCH', 'LSTATE', 'LZIP', 'SCH_TYPE_TEXT', 'LEVEL', 'CHARTER_TEXT']]


school_title = school_title[["School ID (12-digit) - NCES Assigned [Public School] Latest available year","Title I Eligible School [Public School] 2016-17"]]


school_title.head()


school_information.head()








edgap = edgap.rename(
    columns={
        "NCESSCH School ID": "id",
        "CT Pct Adults with College Degree": "percent_college",
        "CT Unemployment Rate": "rate_unemployment",
        "CT Pct Childre In Married Couple Family": "percent_married",
        "CT Median Household Income": "median_income",
        "School ACT average (or equivalent if SAT score)": "average_act",
        "School Pct Free and Reduced Lunch": "percent_lunch",
    }
)


school_information = school_information.rename(
    columns={
        "SCHOOL_YEAR": "year",
        "NCESSCH": "id",
        "LSTATE": "state",
        "LZIP": "zip_code",
        "SCH_TYPE_TEXT": "school_type",
        "LEVEL": "school_level",
        "CHARTER_TEXT": "charter"
    }
)


school_title = school_title.rename(
    columns={
        "School ID (12-digit) - NCES Assigned [Public School] Latest available year": "id",
        "Title I Eligible School [Public School] 2016-17": "Title_1"
    }
)


school_title.head()











school_information['id'] = school_information['id'].astype('object')


school_information.info()


school_title['id'] = school_title['id'].astype('object')


school_title.info()


school_title.head()


edgap.head()


school_information.head()


school_title['Title_1'].value_counts()


df = edgap.merge(
    school_information,
    how='left',
    on='id'
)


df.head()


df.info()


df1 = df.merge(
    school_title,
    how='left',
    on='id'
)


df1.info()











df.describe()


df.select_dtypes(include=['number']).agg(['min', 'max']).round(2)


df.loc[df['percent_lunch'] < 0, 'percent_lunch'] = np.nan


df.loc[df['average_act'] < 1, 'average_act'] = np.nan


df['school_type'].value_counts()


df['school_level'].value_counts()


df['charter'].value_counts()


df = df.loc[df['school_level'] == 'High']


df.duplicated().sum()





df.isna().sum().to_frame(name='Number of Missing Values')





percent_missing = df.isna().mean().round(4) * 100

percent_missing.to_frame(name='Percent Missing Values')





df['state'].value_counts()


df['state'].nunique()





import plotly.offline as po
import plotly.graph_objs as pg


layout = dict(
    geo={"scope": "usa"}, coloraxis_colorbar=dict(title="Number of Schools")
)

data = dict(
    type="choropleth",
    locations=df["state"].value_counts().index,
    locationmode="USA-states",
    z=df["state"].value_counts().values,
    coloraxis="coloraxis",
)

x = pg.Figure(data=[data], layout=layout)

po.iplot(x)





df = df.dropna(subset=['average_act'])


df.isna().sum().to_frame(name='Number of Missing Values')














predictor_variables = [
    'rate_unemployment',
    'percent_college',
    'percent_married',
    'median_income',
    'percent_lunch',
    'state',
    'charter'
]


from sklearn.experimental import enable_iterative_imputer
from sklearn.impute import IterativeImputer


imputer = IterativeImputer()








numerical_predictors = df[predictor_variables].select_dtypes(include='number').columns.to_list()

print(numerical_predictors)





imputer.fit(df.loc[:, numerical_predictors])





df.loc[:, numerical_predictors] = imputer.transform(df.loc[:, numerical_predictors])





df.isna().sum().to_frame(name='Number of Missing Values')





df.to_csv(
    'education_clean.csv',
    encoding='utf-8-sig',
    index=False)














df = pd.read_csv('https://raw.githubusercontent.com/CameronMangione/education/refs/heads/main/code/education_clean.csv')


df.head()





predictor_variables = ['rate_unemployment', 'percent_college', 'percent_married', 'median_income','percent_lunch']

numerical_predictors = df[predictor_variables].select_dtypes(include='number').columns.to_list()

corr_matrix = df[numerical_predictors+ ["average_act"]].corr()

plt.figure(figsize=(10,5))

sns.heatmap(corr_matrix, vmax=1, vmin=-1, square=True, annot=True, cmap="viridis")

plt.tick_params(labelsize=12)

plt.show()





fig = sns.pairplot(
    data=df,
    vars=numerical_predictors + ['average_act'],
    hue='charter',
    kind="reg",
    plot_kws={"scatter_kws": {"alpha": 0.5, "color": "k", "s": 7},
    },
)

for ax in fig.axes.flat:
    if ax.get_xlabel() == 'CT Median Household Income':
        ax.ticklabel_format(style='sci', axis='x', scilimits=(0,0))  # Apply scientific notation
    ax.set_xlabel(ax.get_xlabel(), fontsize=8, rotation=30, ha='right')  # X-axis label size and rotation
    ax.set_ylabel(ax.get_ylabel(), fontsize=8)  # Y-axis label size

    # Rotate x-axis tick labels
    plt.setp(ax.get_xticklabels(), rotation=30, ha='right')

plt.show()


plt.figure(figsize=(10,3))

fractions = list(numerical_predictors)
fractions.remove('median_income')

sns.boxplot(data=df[fractions], color='k')

plt.ylabel('Proportion', fontsize=15)

plt.tick_params(labelsize=12)

plt.show()























plt.figure(figsize=(6,6))

sns.regplot(data=df,
            x = 'median_income',
            y = 'average_act',
            color='blue',
            ci=False,
            scatter_kws={'color': 'black', 'edgecolors': 'white', 'linewidths': 1})

#Add axis labels
plt.xlabel('Median income ($)', fontsize=16)
plt.ylabel('Average ACT Score', fontsize=16)

#Increase the fontsize of the tick labels
plt.tick_params(labelsize=14)

plt.show()





model_median_income = smf.ols(formula='average_act ~ median_income', data=df).fit()


print(model_median_income.summary())








model_median_income.rsquared





y_hat = model_median_income.predict()


np.sqrt(mean_squared_error(df['average_act'], y_hat)).round(3)





mean_absolute_error(df['average_act'], y_hat)





plt.figure(figsize=(6, 6))

plt.plot(y_hat, model_median_income.resid, 'ko', mec='w')
plt.axhline(0, color='r', linestyle='dashed', lw=2)

plt.xlabel('Predicted average ACT score', fontsize=16)
plt.ylabel('Residual average ACT score', fontsize=16)

plt.tick_params(labelsize=14)

plt.show()





plt.figure(figsize=(6,6))

sns.regplot(data=df,
            x= 'median_income',
            y='average_act',
            color='blue',
            ci=False,
            scatter_kws={'color': 'black', 'edgecolors': 'white', 'linewidths': 1})

sns.regplot(data=df,
            x= 'median_income',
            y='average_act',
            order =2,
            color='orange',
            ci=False,
            scatter=False)

# Add axis labels
plt.xlabel('Median income ($)', fontsize=16)
plt.ylabel('Average ACT score', fontsize=16)

# Increase the fontsize of the tick labels
plt.tick_params(labelsize=14)

plt.show()


model_median_income2 = smf.ols(formula='average_act ~ median_income + I(median_income**2)',data=df).fit()


print(model_median_income2.summary())


model_median_income2.pvalues


anova_lm(model_median_income, model_median_income2)


mean_absolute_error(df['average_act'], model_median_income2.predict())


mean_absolute_error(df['average_act'], model_median_income.predict())








model = smf.ols(
    formula='average_act ~ rate_unemployment + percent_college + percent_married + median_income +percent_lunch',
    data=df).fit()


print(model.summary())


y_hat = model.predict()


plt.figure(figsize=(5, 5))

plt.plot(y_hat, model.resid, 'ko', mec='w')
plt.axhline(0, color='r', linestyle='dashed', lw=2)

plt.xlabel('Predicted average ACT score', fontsize=16)
plt.ylabel('Residual average ACT score', fontsize=16)

plt.tick_params(labelsize=14)

plt.show()


mean_absolute_error(df['average_act'], model.predict())











model_reduced = smf.ols(formula='average_act ~ rate_unemployment + percent_lunch',data=df).fit()


print(model_reduced.summary())


y_hat = model_reduced.predict()


plt.figure(figsize=(5, 5))

plt.plot(y_hat, model_reduced.resid, 'ko', mec='w')
plt.axhline(0, color='r', linestyle='dashed', lw=2)

plt.xlabel('Predicted average ACT score', fontsize=16)
plt.ylabel('Residual average ACT score', fontsize=16)

plt.tick_params(labelsize=14)

plt.show()


mean_absolute_error(df['average_act'], model_reduced.predict())


mae_full = mean_absolute_error(df['average_act'], model.predict())
mae_reduced = mean_absolute_error(df['average_act'], model_reduced.predict())

r2_full = model.rsquared
r2_reduced = model_reduced.rsquared

pd.DataFrame({'Mean Absolute Error': [mae_full, mae_reduced],
              'R-squared': [r2_full, r2_reduced]},
             index=['full model', 'reduced model']).round(4)
             


anova_lm(model_reduced, model)














predictor_variables = ['rate_unemployment', 'percent_college', 'percent_lunch']


scaled_columns = [var + '_normalized' for var in predictor_variables]
print(scaled_columns)


scaler = StandardScaler().fit(df[predictor_variables])


df[scaled_columns] = scaler.transform(df[predictor_variables])


df[scaled_columns].agg(['mean','std']).round(3)





model_normalized = smf.ols(formula='average_act ~ rate_unemployment_normalized + percent_college_normalized + percent_lunch_normalized',data=df).fit()


print(model_normalized.summary())


mae_normalized = mean_absolute_error(df['average_act'], model_normalized.predict())
mae_reduced = mean_absolute_error(df['average_act'], model_reduced.predict())

r2_normalized = model_normalized.rsquared
r2_reduced = model_reduced.rsquared

pd.DataFrame({'Mean Absolute Error': [mae_normalized, mae_reduced],
              'R-squared': [r2_normalized, r2_reduced]},
             index=['normalized model', 'reduced model']).round(4)















