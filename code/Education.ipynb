{
 "cells": [
  {
   "cell_type": "markdown",
   "id": "4af04f14-1606-41f5-bc40-e414e8a80dfd",
   "metadata": {},
   "source": [
    "# __Education Project__"
   ]
  },
  {
   "cell_type": "markdown",
   "id": "abfeff95-1eb0-4691-b6cc-2c88141f56e3",
   "metadata": {},
   "source": [
    "## __Introduction__"
   ]
  },
  {
   "cell_type": "markdown",
   "id": "364b07be-aa52-49d0-be05-959cbeb20e95",
   "metadata": {},
   "source": [
    "## __Import Necessary Libraries for Analysi and Importing Datasets__"
   ]
  },
  {
   "cell_type": "code",
   "execution_count": 1,
   "id": "57b5a2e8-7731-43c7-9fbc-c98500b90ed0",
   "metadata": {},
   "outputs": [],
   "source": [
    "# Import pands, numpy, and matplotlib\n",
    "import pandas as pd\n",
    "import numpy as np\n",
    "import matplotlib.pyplot as plt\n",
    "\n",
    "# seaborn is a data visualization library built on matplotlib\n",
    "import seaborn as sns\n",
    "\n",
    "#set the plotting style\n",
    "sns.set_style(\"whitegrid\")"
   ]
  },
  {
   "cell_type": "markdown",
   "id": "14b34654-1890-46ca-978a-f298c8bc28e2",
   "metadata": {},
   "source": [
    "## Import EdGap & National Center for Education Statistics"
   ]
  },
  {
   "cell_type": "code",
   "execution_count": null,
   "id": "789e7c25-c8b7-4d94-b9cd-0e1b27ac4a22",
   "metadata": {},
   "outputs": [],
   "source": []
  }
 ],
 "metadata": {
  "kernelspec": {
   "display_name": "Python [conda env:base] *",
   "language": "python",
   "name": "conda-base-py"
  },
  "language_info": {
   "codemirror_mode": {
    "name": "ipython",
    "version": 3
   },
   "file_extension": ".py",
   "mimetype": "text/x-python",
   "name": "python",
   "nbconvert_exporter": "python",
   "pygments_lexer": "ipython3",
   "version": "3.13.5"
  }
 },
 "nbformat": 4,
 "nbformat_minor": 5
}
