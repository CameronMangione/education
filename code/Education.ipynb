{
 "cells": [
  {
   "cell_type": "markdown",
   "id": "4af04f14-1606-41f5-bc40-e414e8a80dfd",
   "metadata": {},
   "source": [
    "# __Education Project__"
   ]
  },
  {
   "cell_type": "markdown",
   "id": "abfeff95-1eb0-4691-b6cc-2c88141f56e3",
   "metadata": {
    "jp-MarkdownHeadingCollapsed": true
   },
   "source": [
    "## __Introduction__"
   ]
  },
  {
   "cell_type": "markdown",
   "id": "2aeac53c-ddfb-4151-8b18-cd0845496e0b",
   "metadata": {},
   "source": [
    "#### For this project, we are looking to use the data science methodology to answer the question of whether school performance is predicted by socioeconomic factors in the United States. In this case, we are going to compare ACT Scores in school disctricts to multiple socioeconomic factors. We are also going to add a factor that is based on _% of private school entrollment in an area_ as well. "
   ]
  },
  {
   "cell_type": "markdown",
   "id": "364b07be-aa52-49d0-be05-959cbeb20e95",
   "metadata": {
    "jp-MarkdownHeadingCollapsed": true
   },
   "source": [
    "## __Import Necessary Libraries for Analysi and Importing Datasets__"
   ]
  },
  {
   "cell_type": "markdown",
   "id": "6db63247-94b1-4980-957e-f39c6d39acdc",
   "metadata": {},
   "source": [
    "#### Our first step is to import our necessary libraries into our notebook, which consist of \n",
    "#### -__pandas (pd)__ for our data analysis functions, \n",
    "#### -__numpy(np)__ for additional mathematical tools, \n",
    "#### -__matplotlib.pyplot(plt)__ for our graphs, \n",
    "#### -__seaborn (sns)__, which acts as an additional data visualization project built on matplotlib (we will also set our grid for sns to be white at this stage)."
   ]
  },
  {
   "cell_type": "code",
   "execution_count": 1,
   "id": "57b5a2e8-7731-43c7-9fbc-c98500b90ed0",
   "metadata": {},
   "outputs": [],
   "source": [
    "# Import pands, numpy, and matplotlib\n",
    "import pandas as pd\n",
    "import numpy as np\n",
    "import matplotlib.pyplot as plt\n",
    "\n",
    "# seaborn is a data visualization library built on matplotlib\n",
    "import seaborn as sns\n",
    "\n",
    "#set the plotting style\n",
    "sns.set_style(\"whitegrid\")"
   ]
  },
  {
   "cell_type": "markdown",
   "id": "d9450465-cf74-45d1-8c21-4716a4bf6407",
   "metadata": {},
   "source": [
    "#### Now that we have successfully imported our libraries and graphics tools, we can now being importing our datasets from EdGap and the National Center for Education Statistics."
   ]
  },
  {
   "cell_type": "markdown",
   "id": "14b34654-1890-46ca-978a-f298c8bc28e2",
   "metadata": {},
   "source": [
    "## Import EdGap & National Center for Education Statistics"
   ]
  },
  {
   "cell_type": "markdown",
   "id": "4b6ae8a5-c572-48c2-ad9a-c26b080ceaea",
   "metadata": {},
   "source": [
    "#### We will import our data using the __pandas__ function __pd.read_excel()__, and we will import our data from our Github repository for [EdGap]() and for [Pittsburgh](https://raw.githubusercontent.com/CameronMangione/weather/refs/heads/main/data/pittsburgh_rain.csv').\n",
    "\n",
    "#### Note that for these functions to work properly, we needed to import the raw files, which are linked above."
   ]
  },
  {
   "cell_type": "code",
   "execution_count": null,
   "id": "26827450-0f8f-4a4b-9399-0adc63db2ad0",
   "metadata": {},
   "outputs": [],
   "source": [
    "edgap = pd.read_excel("
   ]
  }
 ],
 "metadata": {
  "kernelspec": {
   "display_name": "Python [conda env:base] *",
   "language": "python",
   "name": "conda-base-py"
  },
  "language_info": {
   "codemirror_mode": {
    "name": "ipython",
    "version": 3
   },
   "file_extension": ".py",
   "mimetype": "text/x-python",
   "name": "python",
   "nbconvert_exporter": "python",
   "pygments_lexer": "ipython3",
   "version": "3.13.5"
  }
 },
 "nbformat": 4,
 "nbformat_minor": 5
}
